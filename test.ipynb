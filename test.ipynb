{
 "cells": [
  {
   "cell_type": "code",
   "execution_count": 1,
   "metadata": {},
   "outputs": [],
   "source": [
    "import torchaudio"
   ]
  },
  {
   "cell_type": "code",
   "execution_count": 2,
   "metadata": {},
   "outputs": [
    {
     "name": "stderr",
     "output_type": "stream",
     "text": [
      "d:\\workspace\\Hackathons\\ЦП Всероссийский хакатон 2024\\.conda\\Lib\\site-packages\\tqdm\\auto.py:21: TqdmWarning: IProgress not found. Please update jupyter and ipywidgets. See https://ipywidgets.readthedocs.io/en/stable/user_install.html\n",
      "  from .autonotebook import tqdm as notebook_tqdm\n"
     ]
    }
   ],
   "source": [
    "import encoders"
   ]
  },
  {
   "cell_type": "code",
   "execution_count": 3,
   "metadata": {},
   "outputs": [],
   "source": [
    "wav = torchaudio.load(\"summit.ogg\")"
   ]
  },
  {
   "cell_type": "code",
   "execution_count": 4,
   "metadata": {},
   "outputs": [
    {
     "data": {
      "text/plain": [
       "tensor([[0.0000e+00, 0.0000e+00, 0.0000e+00,  ..., 2.6184e-06, 2.6362e-06,\n",
       "         2.6541e-06],\n",
       "        [0.0000e+00, 0.0000e+00, 0.0000e+00,  ..., 2.6184e-06, 2.6362e-06,\n",
       "         2.6541e-06]])"
      ]
     },
     "execution_count": 4,
     "metadata": {},
     "output_type": "execute_result"
    }
   ],
   "source": [
    "wav[0]"
   ]
  },
  {
   "cell_type": "code",
   "execution_count": 5,
   "metadata": {},
   "outputs": [
    {
     "name": "stderr",
     "output_type": "stream",
     "text": [
      "d:\\workspace\\Hackathons\\ЦП Всероссийский хакатон 2024\\.conda\\Lib\\site-packages\\torch\\nn\\utils\\weight_norm.py:134: FutureWarning: `torch.nn.utils.weight_norm` is deprecated in favor of `torch.nn.utils.parametrizations.weight_norm`.\n",
      "  WeightNorm.apply(module, name, dim)\n",
      "d:\\workspace\\Hackathons\\ЦП Всероссийский хакатон 2024\\.conda\\Lib\\site-packages\\transformers\\models\\encodec\\modeling_encodec.py:120: UserWarning: To copy construct from a tensor, it is recommended to use sourceTensor.clone().detach() or sourceTensor.clone().detach().requires_grad_(True), rather than torch.tensor(sourceTensor).\n",
      "  self.register_buffer(\"padding_total\", torch.tensor(kernel_size - stride, dtype=torch.int64), persistent=False)\n"
     ]
    }
   ],
   "source": [
    "ee = encoders.EnCodecEmbedder()"
   ]
  },
  {
   "cell_type": "code",
   "execution_count": 6,
   "metadata": {},
   "outputs": [],
   "source": [
    "ee = ee.to(\"cuda\")"
   ]
  },
  {
   "cell_type": "code",
   "execution_count": 7,
   "metadata": {},
   "outputs": [
    {
     "data": {
      "text/plain": [
       "tensor([0.0000e+00, 0.0000e+00, 0.0000e+00,  ..., 2.6184e-06, 2.6362e-06,\n",
       "        2.6541e-06])"
      ]
     },
     "execution_count": 7,
     "metadata": {},
     "output_type": "execute_result"
    }
   ],
   "source": [
    "wav[0].mean(0)"
   ]
  },
  {
   "cell_type": "code",
   "execution_count": 9,
   "metadata": {},
   "outputs": [
    {
     "ename": "OutOfMemoryError",
     "evalue": "CUDA out of memory. Tried to allocate 3.61 GiB. GPU 0 has a total capacity of 8.00 GiB of which 2.87 GiB is free. Of the allocated memory 4.06 GiB is allocated by PyTorch, and 2.37 MiB is reserved by PyTorch but unallocated. If reserved but unallocated memory is large try setting PYTORCH_CUDA_ALLOC_CONF=expandable_segments:True to avoid fragmentation.  See documentation for Memory Management  (https://pytorch.org/docs/stable/notes/cuda.html#environment-variables)",
     "output_type": "error",
     "traceback": [
      "\u001b[1;31m---------------------------------------------------------------------------\u001b[0m",
      "\u001b[1;31mOutOfMemoryError\u001b[0m                          Traceback (most recent call last)",
      "Cell \u001b[1;32mIn[9], line 1\u001b[0m\n\u001b[1;32m----> 1\u001b[0m \u001b[43mee\u001b[49m\u001b[38;5;241;43m.\u001b[39;49m\u001b[43mencode\u001b[49m\u001b[43m(\u001b[49m\u001b[43mwav\u001b[49m\u001b[43m[\u001b[49m\u001b[38;5;241;43m0\u001b[39;49m\u001b[43m]\u001b[49m\u001b[38;5;241;43m.\u001b[39;49m\u001b[43mmean\u001b[49m\u001b[43m(\u001b[49m\u001b[38;5;241;43m0\u001b[39;49m\u001b[43m)\u001b[49m\u001b[43m)\u001b[49m\n",
      "File \u001b[1;32md:\\workspace\\Hackathons\\ЦП Всероссийский хакатон 2024\\embedders.py:22\u001b[0m, in \u001b[0;36mEnCodecEmbedder.encode\u001b[1;34m(self, raw_audio)\u001b[0m\n\u001b[0;32m     20\u001b[0m \u001b[38;5;28;01mdef\u001b[39;00m \u001b[38;5;21mencode\u001b[39m(\u001b[38;5;28mself\u001b[39m, raw_audio: Union[np\u001b[38;5;241m.\u001b[39mndarray, List[\u001b[38;5;28mfloat\u001b[39m], List[np\u001b[38;5;241m.\u001b[39mndarray], List[List[\u001b[38;5;28mfloat\u001b[39m]]]):\n\u001b[0;32m     21\u001b[0m     inputs \u001b[38;5;241m=\u001b[39m \u001b[38;5;28mself\u001b[39m\u001b[38;5;241m.\u001b[39mprocessor(raw_audio\u001b[38;5;241m=\u001b[39mraw_audio, sampling_rate\u001b[38;5;241m=\u001b[39m\u001b[38;5;28mself\u001b[39m\u001b[38;5;241m.\u001b[39msampling_rate, return_tensors\u001b[38;5;241m=\u001b[39m\u001b[38;5;124m\"\u001b[39m\u001b[38;5;124mpt\u001b[39m\u001b[38;5;124m\"\u001b[39m)\n\u001b[1;32m---> 22\u001b[0m     encoder_outputs \u001b[38;5;241m=\u001b[39m \u001b[38;5;28;43mself\u001b[39;49m\u001b[38;5;241;43m.\u001b[39;49m\u001b[43mmodel\u001b[49m\u001b[38;5;241;43m.\u001b[39;49m\u001b[43mencode\u001b[49m\u001b[43m(\u001b[49m\u001b[43minputs\u001b[49m\u001b[43m[\u001b[49m\u001b[38;5;124;43m\"\u001b[39;49m\u001b[38;5;124;43minput_values\u001b[39;49m\u001b[38;5;124;43m\"\u001b[39;49m\u001b[43m]\u001b[49m\u001b[38;5;241;43m.\u001b[39;49m\u001b[43mto\u001b[49m\u001b[43m(\u001b[49m\u001b[38;5;28;43mself\u001b[39;49m\u001b[38;5;241;43m.\u001b[39;49m\u001b[43mmodel\u001b[49m\u001b[38;5;241;43m.\u001b[39;49m\u001b[43mdevice\u001b[49m\u001b[43m)\u001b[49m\u001b[43m,\u001b[49m\u001b[43m \u001b[49m\u001b[43minputs\u001b[49m\u001b[43m[\u001b[49m\u001b[38;5;124;43m\"\u001b[39;49m\u001b[38;5;124;43mpadding_mask\u001b[39;49m\u001b[38;5;124;43m\"\u001b[39;49m\u001b[43m]\u001b[49m\u001b[38;5;241;43m.\u001b[39;49m\u001b[43mto\u001b[49m\u001b[43m(\u001b[49m\u001b[38;5;28;43mself\u001b[39;49m\u001b[38;5;241;43m.\u001b[39;49m\u001b[43mmodel\u001b[49m\u001b[38;5;241;43m.\u001b[39;49m\u001b[43mdevice\u001b[49m\u001b[43m)\u001b[49m\u001b[43m,\u001b[49m\u001b[43m \u001b[49m\u001b[43mbandwidth\u001b[49m\u001b[38;5;241;43m=\u001b[39;49m\u001b[38;5;28;43mself\u001b[39;49m\u001b[38;5;241;43m.\u001b[39;49m\u001b[43mbandwidth\u001b[49m\u001b[43m)\u001b[49m\n\u001b[0;32m     23\u001b[0m     codes \u001b[38;5;241m=\u001b[39m encoder_outputs\u001b[38;5;241m.\u001b[39maudio_codes\n\u001b[0;32m     24\u001b[0m     codes \u001b[38;5;241m=\u001b[39m codes\u001b[38;5;241m.\u001b[39mtranspose(\u001b[38;5;241m0\u001b[39m, \u001b[38;5;241m1\u001b[39m)\n",
      "File \u001b[1;32md:\\workspace\\Hackathons\\ЦП Всероссийский хакатон 2024\\.conda\\Lib\\site-packages\\transformers\\models\\encodec\\modeling_encodec.py:642\u001b[0m, in \u001b[0;36mEncodecModel.encode\u001b[1;34m(self, input_values, padding_mask, bandwidth, return_dict)\u001b[0m\n\u001b[0;32m    640\u001b[0m mask \u001b[38;5;241m=\u001b[39m padding_mask[\u001b[38;5;241m.\u001b[39m\u001b[38;5;241m.\u001b[39m\u001b[38;5;241m.\u001b[39m, offset : offset \u001b[38;5;241m+\u001b[39m chunk_length]\u001b[38;5;241m.\u001b[39mbool()\n\u001b[0;32m    641\u001b[0m frame \u001b[38;5;241m=\u001b[39m input_values[:, :, offset : offset \u001b[38;5;241m+\u001b[39m chunk_length]\n\u001b[1;32m--> 642\u001b[0m encoded_frame, scale \u001b[38;5;241m=\u001b[39m \u001b[38;5;28;43mself\u001b[39;49m\u001b[38;5;241;43m.\u001b[39;49m\u001b[43m_encode_frame\u001b[49m\u001b[43m(\u001b[49m\u001b[43mframe\u001b[49m\u001b[43m,\u001b[49m\u001b[43m \u001b[49m\u001b[43mbandwidth\u001b[49m\u001b[43m,\u001b[49m\u001b[43m \u001b[49m\u001b[43mmask\u001b[49m\u001b[43m)\u001b[49m\n\u001b[0;32m    643\u001b[0m encoded_frames\u001b[38;5;241m.\u001b[39mappend(encoded_frame)\n\u001b[0;32m    644\u001b[0m scales\u001b[38;5;241m.\u001b[39mappend(scale)\n",
      "File \u001b[1;32md:\\workspace\\Hackathons\\ЦП Всероссийский хакатон 2024\\.conda\\Lib\\site-packages\\transformers\\models\\encodec\\modeling_encodec.py:575\u001b[0m, in \u001b[0;36mEncodecModel._encode_frame\u001b[1;34m(self, input_values, bandwidth, padding_mask)\u001b[0m\n\u001b[0;32m    572\u001b[0m     scale \u001b[38;5;241m=\u001b[39m mono\u001b[38;5;241m.\u001b[39mpow(\u001b[38;5;241m2\u001b[39m)\u001b[38;5;241m.\u001b[39mmean(dim\u001b[38;5;241m=\u001b[39m\u001b[38;5;241m-\u001b[39m\u001b[38;5;241m1\u001b[39m, keepdim\u001b[38;5;241m=\u001b[39m\u001b[38;5;28;01mTrue\u001b[39;00m)\u001b[38;5;241m.\u001b[39msqrt() \u001b[38;5;241m+\u001b[39m \u001b[38;5;241m1e-8\u001b[39m\n\u001b[0;32m    573\u001b[0m     input_values \u001b[38;5;241m=\u001b[39m input_values \u001b[38;5;241m/\u001b[39m scale\n\u001b[1;32m--> 575\u001b[0m embeddings \u001b[38;5;241m=\u001b[39m \u001b[38;5;28;43mself\u001b[39;49m\u001b[38;5;241;43m.\u001b[39;49m\u001b[43mencoder\u001b[49m\u001b[43m(\u001b[49m\u001b[43minput_values\u001b[49m\u001b[43m)\u001b[49m\n\u001b[0;32m    576\u001b[0m codes \u001b[38;5;241m=\u001b[39m \u001b[38;5;28mself\u001b[39m\u001b[38;5;241m.\u001b[39mquantizer\u001b[38;5;241m.\u001b[39mencode(embeddings, bandwidth)\n\u001b[0;32m    577\u001b[0m codes \u001b[38;5;241m=\u001b[39m codes\u001b[38;5;241m.\u001b[39mtranspose(\u001b[38;5;241m0\u001b[39m, \u001b[38;5;241m1\u001b[39m)\n",
      "File \u001b[1;32md:\\workspace\\Hackathons\\ЦП Всероссийский хакатон 2024\\.conda\\Lib\\site-packages\\torch\\nn\\modules\\module.py:1553\u001b[0m, in \u001b[0;36mModule._wrapped_call_impl\u001b[1;34m(self, *args, **kwargs)\u001b[0m\n\u001b[0;32m   1551\u001b[0m     \u001b[38;5;28;01mreturn\u001b[39;00m \u001b[38;5;28mself\u001b[39m\u001b[38;5;241m.\u001b[39m_compiled_call_impl(\u001b[38;5;241m*\u001b[39margs, \u001b[38;5;241m*\u001b[39m\u001b[38;5;241m*\u001b[39mkwargs)  \u001b[38;5;66;03m# type: ignore[misc]\u001b[39;00m\n\u001b[0;32m   1552\u001b[0m \u001b[38;5;28;01melse\u001b[39;00m:\n\u001b[1;32m-> 1553\u001b[0m     \u001b[38;5;28;01mreturn\u001b[39;00m \u001b[38;5;28;43mself\u001b[39;49m\u001b[38;5;241;43m.\u001b[39;49m\u001b[43m_call_impl\u001b[49m\u001b[43m(\u001b[49m\u001b[38;5;241;43m*\u001b[39;49m\u001b[43margs\u001b[49m\u001b[43m,\u001b[49m\u001b[43m \u001b[49m\u001b[38;5;241;43m*\u001b[39;49m\u001b[38;5;241;43m*\u001b[39;49m\u001b[43mkwargs\u001b[49m\u001b[43m)\u001b[49m\n",
      "File \u001b[1;32md:\\workspace\\Hackathons\\ЦП Всероссийский хакатон 2024\\.conda\\Lib\\site-packages\\torch\\nn\\modules\\module.py:1562\u001b[0m, in \u001b[0;36mModule._call_impl\u001b[1;34m(self, *args, **kwargs)\u001b[0m\n\u001b[0;32m   1557\u001b[0m \u001b[38;5;66;03m# If we don't have any hooks, we want to skip the rest of the logic in\u001b[39;00m\n\u001b[0;32m   1558\u001b[0m \u001b[38;5;66;03m# this function, and just call forward.\u001b[39;00m\n\u001b[0;32m   1559\u001b[0m \u001b[38;5;28;01mif\u001b[39;00m \u001b[38;5;129;01mnot\u001b[39;00m (\u001b[38;5;28mself\u001b[39m\u001b[38;5;241m.\u001b[39m_backward_hooks \u001b[38;5;129;01mor\u001b[39;00m \u001b[38;5;28mself\u001b[39m\u001b[38;5;241m.\u001b[39m_backward_pre_hooks \u001b[38;5;129;01mor\u001b[39;00m \u001b[38;5;28mself\u001b[39m\u001b[38;5;241m.\u001b[39m_forward_hooks \u001b[38;5;129;01mor\u001b[39;00m \u001b[38;5;28mself\u001b[39m\u001b[38;5;241m.\u001b[39m_forward_pre_hooks\n\u001b[0;32m   1560\u001b[0m         \u001b[38;5;129;01mor\u001b[39;00m _global_backward_pre_hooks \u001b[38;5;129;01mor\u001b[39;00m _global_backward_hooks\n\u001b[0;32m   1561\u001b[0m         \u001b[38;5;129;01mor\u001b[39;00m _global_forward_hooks \u001b[38;5;129;01mor\u001b[39;00m _global_forward_pre_hooks):\n\u001b[1;32m-> 1562\u001b[0m     \u001b[38;5;28;01mreturn\u001b[39;00m \u001b[43mforward_call\u001b[49m\u001b[43m(\u001b[49m\u001b[38;5;241;43m*\u001b[39;49m\u001b[43margs\u001b[49m\u001b[43m,\u001b[49m\u001b[43m \u001b[49m\u001b[38;5;241;43m*\u001b[39;49m\u001b[38;5;241;43m*\u001b[39;49m\u001b[43mkwargs\u001b[49m\u001b[43m)\u001b[49m\n\u001b[0;32m   1564\u001b[0m \u001b[38;5;28;01mtry\u001b[39;00m:\n\u001b[0;32m   1565\u001b[0m     result \u001b[38;5;241m=\u001b[39m \u001b[38;5;28;01mNone\u001b[39;00m\n",
      "File \u001b[1;32md:\\workspace\\Hackathons\\ЦП Всероссийский хакатон 2024\\.conda\\Lib\\site-packages\\transformers\\models\\encodec\\modeling_encodec.py:303\u001b[0m, in \u001b[0;36mEncodecEncoder.forward\u001b[1;34m(self, hidden_states)\u001b[0m\n\u001b[0;32m    301\u001b[0m \u001b[38;5;28;01mdef\u001b[39;00m \u001b[38;5;21mforward\u001b[39m(\u001b[38;5;28mself\u001b[39m, hidden_states):\n\u001b[0;32m    302\u001b[0m     \u001b[38;5;28;01mfor\u001b[39;00m layer \u001b[38;5;129;01min\u001b[39;00m \u001b[38;5;28mself\u001b[39m\u001b[38;5;241m.\u001b[39mlayers:\n\u001b[1;32m--> 303\u001b[0m         hidden_states \u001b[38;5;241m=\u001b[39m \u001b[43mlayer\u001b[49m\u001b[43m(\u001b[49m\u001b[43mhidden_states\u001b[49m\u001b[43m)\u001b[49m\n\u001b[0;32m    304\u001b[0m     \u001b[38;5;28;01mreturn\u001b[39;00m hidden_states\n",
      "File \u001b[1;32md:\\workspace\\Hackathons\\ЦП Всероссийский хакатон 2024\\.conda\\Lib\\site-packages\\torch\\nn\\modules\\module.py:1553\u001b[0m, in \u001b[0;36mModule._wrapped_call_impl\u001b[1;34m(self, *args, **kwargs)\u001b[0m\n\u001b[0;32m   1551\u001b[0m     \u001b[38;5;28;01mreturn\u001b[39;00m \u001b[38;5;28mself\u001b[39m\u001b[38;5;241m.\u001b[39m_compiled_call_impl(\u001b[38;5;241m*\u001b[39margs, \u001b[38;5;241m*\u001b[39m\u001b[38;5;241m*\u001b[39mkwargs)  \u001b[38;5;66;03m# type: ignore[misc]\u001b[39;00m\n\u001b[0;32m   1552\u001b[0m \u001b[38;5;28;01melse\u001b[39;00m:\n\u001b[1;32m-> 1553\u001b[0m     \u001b[38;5;28;01mreturn\u001b[39;00m \u001b[38;5;28;43mself\u001b[39;49m\u001b[38;5;241;43m.\u001b[39;49m\u001b[43m_call_impl\u001b[49m\u001b[43m(\u001b[49m\u001b[38;5;241;43m*\u001b[39;49m\u001b[43margs\u001b[49m\u001b[43m,\u001b[49m\u001b[43m \u001b[49m\u001b[38;5;241;43m*\u001b[39;49m\u001b[38;5;241;43m*\u001b[39;49m\u001b[43mkwargs\u001b[49m\u001b[43m)\u001b[49m\n",
      "File \u001b[1;32md:\\workspace\\Hackathons\\ЦП Всероссийский хакатон 2024\\.conda\\Lib\\site-packages\\torch\\nn\\modules\\module.py:1562\u001b[0m, in \u001b[0;36mModule._call_impl\u001b[1;34m(self, *args, **kwargs)\u001b[0m\n\u001b[0;32m   1557\u001b[0m \u001b[38;5;66;03m# If we don't have any hooks, we want to skip the rest of the logic in\u001b[39;00m\n\u001b[0;32m   1558\u001b[0m \u001b[38;5;66;03m# this function, and just call forward.\u001b[39;00m\n\u001b[0;32m   1559\u001b[0m \u001b[38;5;28;01mif\u001b[39;00m \u001b[38;5;129;01mnot\u001b[39;00m (\u001b[38;5;28mself\u001b[39m\u001b[38;5;241m.\u001b[39m_backward_hooks \u001b[38;5;129;01mor\u001b[39;00m \u001b[38;5;28mself\u001b[39m\u001b[38;5;241m.\u001b[39m_backward_pre_hooks \u001b[38;5;129;01mor\u001b[39;00m \u001b[38;5;28mself\u001b[39m\u001b[38;5;241m.\u001b[39m_forward_hooks \u001b[38;5;129;01mor\u001b[39;00m \u001b[38;5;28mself\u001b[39m\u001b[38;5;241m.\u001b[39m_forward_pre_hooks\n\u001b[0;32m   1560\u001b[0m         \u001b[38;5;129;01mor\u001b[39;00m _global_backward_pre_hooks \u001b[38;5;129;01mor\u001b[39;00m _global_backward_hooks\n\u001b[0;32m   1561\u001b[0m         \u001b[38;5;129;01mor\u001b[39;00m _global_forward_hooks \u001b[38;5;129;01mor\u001b[39;00m _global_forward_pre_hooks):\n\u001b[1;32m-> 1562\u001b[0m     \u001b[38;5;28;01mreturn\u001b[39;00m \u001b[43mforward_call\u001b[49m\u001b[43m(\u001b[49m\u001b[38;5;241;43m*\u001b[39;49m\u001b[43margs\u001b[49m\u001b[43m,\u001b[49m\u001b[43m \u001b[49m\u001b[38;5;241;43m*\u001b[39;49m\u001b[38;5;241;43m*\u001b[39;49m\u001b[43mkwargs\u001b[49m\u001b[43m)\u001b[49m\n\u001b[0;32m   1564\u001b[0m \u001b[38;5;28;01mtry\u001b[39;00m:\n\u001b[0;32m   1565\u001b[0m     result \u001b[38;5;241m=\u001b[39m \u001b[38;5;28;01mNone\u001b[39;00m\n",
      "File \u001b[1;32md:\\workspace\\Hackathons\\ЦП Всероссийский хакатон 2024\\.conda\\Lib\\site-packages\\transformers\\models\\encodec\\modeling_encodec.py:271\u001b[0m, in \u001b[0;36mEncodecResnetBlock.forward\u001b[1;34m(self, hidden_states)\u001b[0m\n\u001b[0;32m    269\u001b[0m residual \u001b[38;5;241m=\u001b[39m hidden_states\n\u001b[0;32m    270\u001b[0m \u001b[38;5;28;01mfor\u001b[39;00m layer \u001b[38;5;129;01min\u001b[39;00m \u001b[38;5;28mself\u001b[39m\u001b[38;5;241m.\u001b[39mblock:\n\u001b[1;32m--> 271\u001b[0m     hidden_states \u001b[38;5;241m=\u001b[39m \u001b[43mlayer\u001b[49m\u001b[43m(\u001b[49m\u001b[43mhidden_states\u001b[49m\u001b[43m)\u001b[49m\n\u001b[0;32m    273\u001b[0m \u001b[38;5;28;01mreturn\u001b[39;00m \u001b[38;5;28mself\u001b[39m\u001b[38;5;241m.\u001b[39mshortcut(residual) \u001b[38;5;241m+\u001b[39m hidden_states\n",
      "File \u001b[1;32md:\\workspace\\Hackathons\\ЦП Всероссийский хакатон 2024\\.conda\\Lib\\site-packages\\torch\\nn\\modules\\module.py:1553\u001b[0m, in \u001b[0;36mModule._wrapped_call_impl\u001b[1;34m(self, *args, **kwargs)\u001b[0m\n\u001b[0;32m   1551\u001b[0m     \u001b[38;5;28;01mreturn\u001b[39;00m \u001b[38;5;28mself\u001b[39m\u001b[38;5;241m.\u001b[39m_compiled_call_impl(\u001b[38;5;241m*\u001b[39margs, \u001b[38;5;241m*\u001b[39m\u001b[38;5;241m*\u001b[39mkwargs)  \u001b[38;5;66;03m# type: ignore[misc]\u001b[39;00m\n\u001b[0;32m   1552\u001b[0m \u001b[38;5;28;01melse\u001b[39;00m:\n\u001b[1;32m-> 1553\u001b[0m     \u001b[38;5;28;01mreturn\u001b[39;00m \u001b[38;5;28;43mself\u001b[39;49m\u001b[38;5;241;43m.\u001b[39;49m\u001b[43m_call_impl\u001b[49m\u001b[43m(\u001b[49m\u001b[38;5;241;43m*\u001b[39;49m\u001b[43margs\u001b[49m\u001b[43m,\u001b[49m\u001b[43m \u001b[49m\u001b[38;5;241;43m*\u001b[39;49m\u001b[38;5;241;43m*\u001b[39;49m\u001b[43mkwargs\u001b[49m\u001b[43m)\u001b[49m\n",
      "File \u001b[1;32md:\\workspace\\Hackathons\\ЦП Всероссийский хакатон 2024\\.conda\\Lib\\site-packages\\torch\\nn\\modules\\module.py:1562\u001b[0m, in \u001b[0;36mModule._call_impl\u001b[1;34m(self, *args, **kwargs)\u001b[0m\n\u001b[0;32m   1557\u001b[0m \u001b[38;5;66;03m# If we don't have any hooks, we want to skip the rest of the logic in\u001b[39;00m\n\u001b[0;32m   1558\u001b[0m \u001b[38;5;66;03m# this function, and just call forward.\u001b[39;00m\n\u001b[0;32m   1559\u001b[0m \u001b[38;5;28;01mif\u001b[39;00m \u001b[38;5;129;01mnot\u001b[39;00m (\u001b[38;5;28mself\u001b[39m\u001b[38;5;241m.\u001b[39m_backward_hooks \u001b[38;5;129;01mor\u001b[39;00m \u001b[38;5;28mself\u001b[39m\u001b[38;5;241m.\u001b[39m_backward_pre_hooks \u001b[38;5;129;01mor\u001b[39;00m \u001b[38;5;28mself\u001b[39m\u001b[38;5;241m.\u001b[39m_forward_hooks \u001b[38;5;129;01mor\u001b[39;00m \u001b[38;5;28mself\u001b[39m\u001b[38;5;241m.\u001b[39m_forward_pre_hooks\n\u001b[0;32m   1560\u001b[0m         \u001b[38;5;129;01mor\u001b[39;00m _global_backward_pre_hooks \u001b[38;5;129;01mor\u001b[39;00m _global_backward_hooks\n\u001b[0;32m   1561\u001b[0m         \u001b[38;5;129;01mor\u001b[39;00m _global_forward_hooks \u001b[38;5;129;01mor\u001b[39;00m _global_forward_pre_hooks):\n\u001b[1;32m-> 1562\u001b[0m     \u001b[38;5;28;01mreturn\u001b[39;00m \u001b[43mforward_call\u001b[49m\u001b[43m(\u001b[49m\u001b[38;5;241;43m*\u001b[39;49m\u001b[43margs\u001b[49m\u001b[43m,\u001b[49m\u001b[43m \u001b[49m\u001b[38;5;241;43m*\u001b[39;49m\u001b[38;5;241;43m*\u001b[39;49m\u001b[43mkwargs\u001b[49m\u001b[43m)\u001b[49m\n\u001b[0;32m   1564\u001b[0m \u001b[38;5;28;01mtry\u001b[39;00m:\n\u001b[0;32m   1565\u001b[0m     result \u001b[38;5;241m=\u001b[39m \u001b[38;5;28;01mNone\u001b[39;00m\n",
      "File \u001b[1;32md:\\workspace\\Hackathons\\ЦП Всероссийский хакатон 2024\\.conda\\Lib\\site-packages\\torch\\nn\\modules\\activation.py:532\u001b[0m, in \u001b[0;36mELU.forward\u001b[1;34m(self, input)\u001b[0m\n\u001b[0;32m    531\u001b[0m \u001b[38;5;28;01mdef\u001b[39;00m \u001b[38;5;21mforward\u001b[39m(\u001b[38;5;28mself\u001b[39m, \u001b[38;5;28minput\u001b[39m: Tensor) \u001b[38;5;241m-\u001b[39m\u001b[38;5;241m>\u001b[39m Tensor:\n\u001b[1;32m--> 532\u001b[0m     \u001b[38;5;28;01mreturn\u001b[39;00m \u001b[43mF\u001b[49m\u001b[38;5;241;43m.\u001b[39;49m\u001b[43melu\u001b[49m\u001b[43m(\u001b[49m\u001b[38;5;28;43minput\u001b[39;49m\u001b[43m,\u001b[49m\u001b[43m \u001b[49m\u001b[38;5;28;43mself\u001b[39;49m\u001b[38;5;241;43m.\u001b[39;49m\u001b[43malpha\u001b[49m\u001b[43m,\u001b[49m\u001b[43m \u001b[49m\u001b[38;5;28;43mself\u001b[39;49m\u001b[38;5;241;43m.\u001b[39;49m\u001b[43minplace\u001b[49m\u001b[43m)\u001b[49m\n",
      "File \u001b[1;32md:\\workspace\\Hackathons\\ЦП Всероссийский хакатон 2024\\.conda\\Lib\\site-packages\\torch\\nn\\functional.py:1593\u001b[0m, in \u001b[0;36melu\u001b[1;34m(input, alpha, inplace)\u001b[0m\n\u001b[0;32m   1591\u001b[0m     result \u001b[38;5;241m=\u001b[39m torch\u001b[38;5;241m.\u001b[39m_C\u001b[38;5;241m.\u001b[39m_nn\u001b[38;5;241m.\u001b[39melu_(\u001b[38;5;28minput\u001b[39m, alpha)\n\u001b[0;32m   1592\u001b[0m \u001b[38;5;28;01melse\u001b[39;00m:\n\u001b[1;32m-> 1593\u001b[0m     result \u001b[38;5;241m=\u001b[39m \u001b[43mtorch\u001b[49m\u001b[38;5;241;43m.\u001b[39;49m\u001b[43m_C\u001b[49m\u001b[38;5;241;43m.\u001b[39;49m\u001b[43m_nn\u001b[49m\u001b[38;5;241;43m.\u001b[39;49m\u001b[43melu\u001b[49m\u001b[43m(\u001b[49m\u001b[38;5;28;43minput\u001b[39;49m\u001b[43m,\u001b[49m\u001b[43m \u001b[49m\u001b[43malpha\u001b[49m\u001b[43m)\u001b[49m\n\u001b[0;32m   1594\u001b[0m \u001b[38;5;28;01mreturn\u001b[39;00m result\n",
      "\u001b[1;31mOutOfMemoryError\u001b[0m: CUDA out of memory. Tried to allocate 3.61 GiB. GPU 0 has a total capacity of 8.00 GiB of which 2.87 GiB is free. Of the allocated memory 4.06 GiB is allocated by PyTorch, and 2.37 MiB is reserved by PyTorch but unallocated. If reserved but unallocated memory is large try setting PYTORCH_CUDA_ALLOC_CONF=expandable_segments:True to avoid fragmentation.  See documentation for Memory Management  (https://pytorch.org/docs/stable/notes/cuda.html#environment-variables)"
     ]
    }
   ],
   "source": [
    "ee.encode(wav[0].mean(0))"
   ]
  },
  {
   "cell_type": "code",
   "execution_count": 17,
   "metadata": {},
   "outputs": [
    {
     "data": {
      "text/plain": [
       "tensor(0.1646)"
      ]
     },
     "execution_count": 17,
     "metadata": {},
     "output_type": "execute_result"
    }
   ],
   "source": [
    "ee.processor(raw_audio=wav[0].mean(0), sampling_rate=ee.sampling_rate, return_tensors=\"pt\")[\"input_values\"]"
   ]
  },
  {
   "cell_type": "code",
   "execution_count": 11,
   "metadata": {},
   "outputs": [
    {
     "data": {
      "text/plain": [
       "48000"
      ]
     },
     "execution_count": 11,
     "metadata": {},
     "output_type": "execute_result"
    }
   ],
   "source": [
    "ee.processor.chunk_length"
   ]
  },
  {
   "cell_type": "code",
   "execution_count": 13,
   "metadata": {},
   "outputs": [],
   "source": [
    "ee.processor.overlap = 0"
   ]
  },
  {
   "cell_type": "code",
   "execution_count": 18,
   "metadata": {},
   "outputs": [
    {
     "ename": "AttributeError",
     "evalue": "'EncodecFeatureExtractor' object has no attribute 'max_length'",
     "output_type": "error",
     "traceback": [
      "\u001b[1;31m---------------------------------------------------------------------------\u001b[0m",
      "\u001b[1;31mAttributeError\u001b[0m                            Traceback (most recent call last)",
      "Cell \u001b[1;32mIn[18], line 1\u001b[0m\n\u001b[1;32m----> 1\u001b[0m \u001b[43mee\u001b[49m\u001b[38;5;241;43m.\u001b[39;49m\u001b[43mprocessor\u001b[49m\u001b[38;5;241;43m.\u001b[39;49m\u001b[43mmax_length\u001b[49m\n",
      "\u001b[1;31mAttributeError\u001b[0m: 'EncodecFeatureExtractor' object has no attribute 'max_length'"
     ]
    }
   ],
   "source": [
    "ee.processor.max_length"
   ]
  },
  {
   "cell_type": "code",
   "execution_count": 1,
   "metadata": {},
   "outputs": [],
   "source": [
    "import torchvision"
   ]
  },
  {
   "cell_type": "code",
   "execution_count": 2,
   "metadata": {},
   "outputs": [
    {
     "name": "stderr",
     "output_type": "stream",
     "text": [
      "d:\\workspace\\Hackathons\\ЦП Всероссийский хакатон 2024\\.conda\\Lib\\site-packages\\torchvision\\io\\video.py:161: UserWarning: The pts_unit 'pts' gives wrong results. Please use pts_unit 'sec'.\n",
      "  warnings.warn(\"The pts_unit 'pts' gives wrong results. Please use pts_unit 'sec'.\")\n"
     ]
    },
    {
     "ename": "MemoryError",
     "evalue": "Unable to allocate 12.9 GiB for an array with shape (2682, 978, 1766, 3) and data type uint8",
     "output_type": "error",
     "traceback": [
      "\u001b[1;31m---------------------------------------------------------------------------\u001b[0m",
      "\u001b[1;31mMemoryError\u001b[0m                               Traceback (most recent call last)",
      "Cell \u001b[1;32mIn[2], line 2\u001b[0m\n\u001b[0;32m      1\u001b[0m \u001b[38;5;28;01mfrom\u001b[39;00m \u001b[38;5;21;01mtorchvision\u001b[39;00m\u001b[38;5;21;01m.\u001b[39;00m\u001b[38;5;21;01mio\u001b[39;00m\u001b[38;5;21;01m.\u001b[39;00m\u001b[38;5;21;01mvideo\u001b[39;00m \u001b[38;5;28;01mimport\u001b[39;00m read_video\n\u001b[1;32m----> 2\u001b[0m v \u001b[38;5;241m=\u001b[39m \u001b[43mread_video\u001b[49m\u001b[43m(\u001b[49m\u001b[38;5;124;43m\"\u001b[39;49m\u001b[38;5;124;43mblackborder.garba.mp4\u001b[39;49m\u001b[38;5;124;43m\"\u001b[39;49m\u001b[43m)\u001b[49m\n",
      "File \u001b[1;32md:\\workspace\\Hackathons\\ЦП Всероссийский хакатон 2024\\.conda\\Lib\\site-packages\\torchvision\\io\\video.py:327\u001b[0m, in \u001b[0;36mread_video\u001b[1;34m(filename, start_pts, end_pts, pts_unit, output_format)\u001b[0m\n\u001b[0;32m    324\u001b[0m aframes_list \u001b[38;5;241m=\u001b[39m [frame\u001b[38;5;241m.\u001b[39mto_ndarray() \u001b[38;5;28;01mfor\u001b[39;00m frame \u001b[38;5;129;01min\u001b[39;00m audio_frames]\n\u001b[0;32m    326\u001b[0m \u001b[38;5;28;01mif\u001b[39;00m vframes_list:\n\u001b[1;32m--> 327\u001b[0m     vframes \u001b[38;5;241m=\u001b[39m torch\u001b[38;5;241m.\u001b[39mas_tensor(\u001b[43mnp\u001b[49m\u001b[38;5;241;43m.\u001b[39;49m\u001b[43mstack\u001b[49m\u001b[43m(\u001b[49m\u001b[43mvframes_list\u001b[49m\u001b[43m)\u001b[49m)\n\u001b[0;32m    328\u001b[0m \u001b[38;5;28;01melse\u001b[39;00m:\n\u001b[0;32m    329\u001b[0m     vframes \u001b[38;5;241m=\u001b[39m torch\u001b[38;5;241m.\u001b[39mempty((\u001b[38;5;241m0\u001b[39m, \u001b[38;5;241m1\u001b[39m, \u001b[38;5;241m1\u001b[39m, \u001b[38;5;241m3\u001b[39m), dtype\u001b[38;5;241m=\u001b[39mtorch\u001b[38;5;241m.\u001b[39muint8)\n",
      "File \u001b[1;32md:\\workspace\\Hackathons\\ЦП Всероссийский хакатон 2024\\.conda\\Lib\\site-packages\\numpy\\_core\\shape_base.py:455\u001b[0m, in \u001b[0;36mstack\u001b[1;34m(arrays, axis, out, dtype, casting)\u001b[0m\n\u001b[0;32m    453\u001b[0m sl \u001b[38;5;241m=\u001b[39m (\u001b[38;5;28mslice\u001b[39m(\u001b[38;5;28;01mNone\u001b[39;00m),) \u001b[38;5;241m*\u001b[39m axis \u001b[38;5;241m+\u001b[39m (_nx\u001b[38;5;241m.\u001b[39mnewaxis,)\n\u001b[0;32m    454\u001b[0m expanded_arrays \u001b[38;5;241m=\u001b[39m [arr[sl] \u001b[38;5;28;01mfor\u001b[39;00m arr \u001b[38;5;129;01min\u001b[39;00m arrays]\n\u001b[1;32m--> 455\u001b[0m \u001b[38;5;28;01mreturn\u001b[39;00m \u001b[43m_nx\u001b[49m\u001b[38;5;241;43m.\u001b[39;49m\u001b[43mconcatenate\u001b[49m\u001b[43m(\u001b[49m\u001b[43mexpanded_arrays\u001b[49m\u001b[43m,\u001b[49m\u001b[43m \u001b[49m\u001b[43maxis\u001b[49m\u001b[38;5;241;43m=\u001b[39;49m\u001b[43maxis\u001b[49m\u001b[43m,\u001b[49m\u001b[43m \u001b[49m\u001b[43mout\u001b[49m\u001b[38;5;241;43m=\u001b[39;49m\u001b[43mout\u001b[49m\u001b[43m,\u001b[49m\n\u001b[0;32m    456\u001b[0m \u001b[43m                       \u001b[49m\u001b[43mdtype\u001b[49m\u001b[38;5;241;43m=\u001b[39;49m\u001b[43mdtype\u001b[49m\u001b[43m,\u001b[49m\u001b[43m \u001b[49m\u001b[43mcasting\u001b[49m\u001b[38;5;241;43m=\u001b[39;49m\u001b[43mcasting\u001b[49m\u001b[43m)\u001b[49m\n",
      "\u001b[1;31mMemoryError\u001b[0m: Unable to allocate 12.9 GiB for an array with shape (2682, 978, 1766, 3) and data type uint8"
     ]
    }
   ],
   "source": [
    "from torchvision.io.video import read_video\n",
    "v = read_video(\"blackborder.garba.mp4\")"
   ]
  },
  {
   "cell_type": "code",
   "execution_count": 1,
   "metadata": {},
   "outputs": [
    {
     "name": "stderr",
     "output_type": "stream",
     "text": [
      "d:\\workspace\\Hackathons\\ЦП Всероссийский хакатон 2024\\.conda\\Lib\\site-packages\\tqdm\\auto.py:21: TqdmWarning: IProgress not found. Please update jupyter and ipywidgets. See https://ipywidgets.readthedocs.io/en/stable/user_install.html\n",
      "  from .autonotebook import tqdm as notebook_tqdm\n"
     ]
    }
   ],
   "source": [
    "from extractors import *\n",
    "from encoders import *"
   ]
  },
  {
   "cell_type": "code",
   "execution_count": 4,
   "metadata": {},
   "outputs": [],
   "source": [
    "extractor = EveryNFramesExtractor(n=100)"
   ]
  },
  {
   "cell_type": "code",
   "execution_count": 3,
   "metadata": {},
   "outputs": [],
   "source": [
    "extractor = NEvenlySpacedExtractor(n=15)"
   ]
  },
  {
   "cell_type": "code",
   "execution_count": 2,
   "metadata": {},
   "outputs": [],
   "source": [
    "extractor = KeyFrameFFmpegExtractor()"
   ]
  },
  {
   "cell_type": "code",
   "execution_count": null,
   "metadata": {},
   "outputs": [],
   "source": [
    "encoder = ColorHistogramEncoder()"
   ]
  },
  {
   "cell_type": "code",
   "execution_count": 3,
   "metadata": {},
   "outputs": [],
   "source": [
    "encoder = TimmEncoder(\"mobilenetv3_large_100\").to(torch.device(\"cuda\"))"
   ]
  },
  {
   "cell_type": "code",
   "execution_count": 3,
   "metadata": {},
   "outputs": [
    {
     "name": "stderr",
     "output_type": "stream",
     "text": [
      "d:\\workspace\\Hackathons\\ЦП Всероссийский хакатон 2024\\.conda\\Lib\\site-packages\\transformers\\tokenization_utils_base.py:1601: FutureWarning: `clean_up_tokenization_spaces` was not set. It will be set to `True` by default. This behavior will be depracted in transformers v4.45, and will be then set to `False` by default. For more details check this issue: https://github.com/huggingface/transformers/issues/31884\n",
      "  warnings.warn(\n"
     ]
    }
   ],
   "source": [
    "encoder = CLIPEncoder().to(torch.device(\"cuda\"))"
   ]
  },
  {
   "cell_type": "code",
   "execution_count": 5,
   "metadata": {},
   "outputs": [
    {
     "name": "stdout",
     "output_type": "stream",
     "text": [
      "0 torch.Size([1, 768])\n",
      "1 torch.Size([1, 768])\n",
      "2 torch.Size([1, 768])\n",
      "3 torch.Size([1, 768])\n",
      "4 torch.Size([1, 768])\n",
      "5 torch.Size([1, 768])\n",
      "6 torch.Size([1, 768])\n",
      "7 torch.Size([1, 768])\n",
      "8 torch.Size([1, 768])\n",
      "9 torch.Size([1, 768])\n",
      "10 torch.Size([1, 768])\n",
      "11 torch.Size([1, 768])\n",
      "12 torch.Size([1, 768])\n",
      "13 torch.Size([1, 768])\n",
      "14 torch.Size([1, 768])\n",
      "15 torch.Size([1, 768])\n",
      "16 torch.Size([1, 768])\n",
      "17 torch.Size([1, 768])\n",
      "18 torch.Size([1, 768])\n",
      "19 torch.Size([1, 768])\n",
      "20 torch.Size([1, 768])\n"
     ]
    }
   ],
   "source": [
    "for i, img in enumerate(extractor(\"blackborder.garba.mp4\")):\n",
    "    print(i, encoder.encode(img).shape)"
   ]
  },
  {
   "cell_type": "code",
   "execution_count": 4,
   "metadata": {},
   "outputs": [
    {
     "name": "stderr",
     "output_type": "stream",
     "text": [
      "d:\\workspace\\Hackathons\\ЦП Всероссийский хакатон 2024\\.conda\\Lib\\site-packages\\tqdm\\auto.py:21: TqdmWarning: IProgress not found. Please update jupyter and ipywidgets. See https://ipywidgets.readthedocs.io/en/stable/user_install.html\n",
      "  from .autonotebook import tqdm as notebook_tqdm\n"
     ]
    }
   ],
   "source": [
    "from encoders import ColorHistogramEncoder"
   ]
  },
  {
   "cell_type": "code",
   "execution_count": 7,
   "metadata": {},
   "outputs": [
    {
     "data": {
      "text/plain": [
       "tensor([1716661,     159,     629,     258,     154,     227,     173,     119,\n",
       "            147,     228,     213,     123,      97,      70,      56,     100,\n",
       "            173,      56,      35,      33,      33,      26,      42,      58,\n",
       "             22,      18,      28,      16,       6,      31,      17,      18,\n",
       "             69,       8,      32,      44,      19,      10,       7,      27,\n",
       "             10,       6,      52,       5,       7,       7,      10,      17,\n",
       "             46,       7,       6,       3,       3,      13,      11,       4,\n",
       "              7,       7,       4,       3,       6,       7,       3,       5,\n",
       "              4,       7,       5,       4,       6,       7,      14,      41,\n",
       "              5,      38,      20,       7,      14,       2,       5,       5,\n",
       "             12,       4,       6,       3,       6,       5,       3,       4,\n",
       "              6,       6,       7,       6,       5,      44,       8,       2,\n",
       "             35,       6,       2,       7,      10,      20,      13,       4,\n",
       "              5,      27,       2,       7,      13,      24,       6,       4,\n",
       "              8,      12,      10,      12,      13,      10,      18,      13,\n",
       "             55,      47,       9,       9,      38,      14,       9,       7,\n",
       "             11,       6,      11,       7,      10,       6,       7,      10,\n",
       "              5,       6,      47,      18,       6,       5,      29,      29,\n",
       "             22,       5,       7,      10,       5,       9,      10,      30,\n",
       "              2,       8,       3,       3,       4,      88,       9,       7,\n",
       "              3,       8,       8,      13,      10,       6,      45,      10,\n",
       "              6,       8,      30,       7,       7,       6,       8,       9,\n",
       "             12,       7,       2,       2,       9,       3,      12,       6,\n",
       "              6,       5,      10,       4,       5,       5,       8,       6,\n",
       "              6,       6,      10,       8,       9,       7,      14,       6,\n",
       "             11,      12,      25,      19,       6,       8,      59,       5,\n",
       "              7,      13,      27,      11,      11,      35,      45,      11,\n",
       "             90,      41,      19,      31,      11,      38,      12,      16,\n",
       "             14,      28,      10,      31,      61,      33,      36,      34,\n",
       "             29,      60,      86,      43,      85,      57,      55,      66,\n",
       "            124,     148,     126,     149,     138,      85,     114,     112,\n",
       "            140,     130,      86,     167,     220,     185,     171,    1704,\n",
       "        1716661,     159,     629,     258,     154,     227,     173,     119,\n",
       "            147,     228,     213,     123,      97,      70,      56,     100,\n",
       "            173,      56,      35,      33,      33,      26,      42,      58,\n",
       "             22,      18,      28,      16,       6,      31,      17,      18,\n",
       "             69,       8,      32,      44,      19,      10,       7,      27,\n",
       "             10,       6,      52,       5,       7,       7,      10,      17,\n",
       "             46,       7,       6,       3,       3,      13,      11,       4,\n",
       "              7,       7,       4,       3,       6,       7,       3,       5,\n",
       "              4,       7,       5,       4,       6,       7,      14,      41,\n",
       "              5,      38,      20,       7,      14,       2,       5,       5,\n",
       "             12,       4,       6,       3,       6,       5,       3,       4,\n",
       "              6,       6,       7,       6,       5,      44,       8,       2,\n",
       "             35,       6,       2,       7,      10,      20,      13,       4,\n",
       "              5,      27,       2,       7,      13,      24,       6,       4,\n",
       "              8,      12,      10,      12,      13,      10,      18,      13,\n",
       "             55,      47,       9,       9,      38,      14,       9,       7,\n",
       "             11,       6,      11,       7,      10,       6,       7,      10,\n",
       "              5,       6,      47,      18,       6,       5,      29,      29,\n",
       "             22,       5,       7,      10,       5,       9,      10,      30,\n",
       "              2,       8,       3,       3,       4,      88,       9,       7,\n",
       "              3,       8,       8,      13,      10,       6,      45,      10,\n",
       "              6,       8,      30,       7,       7,       6,       8,       9,\n",
       "             12,       7,       2,       2,       9,       3,      12,       6,\n",
       "              6,       5,      10,       4,       5,       5,       8,       6,\n",
       "              6,       6,      10,       8,       9,       7,      14,       6,\n",
       "             11,      12,      25,      19,       6,       8,      59,       5,\n",
       "              7,      13,      27,      11,      11,      35,      45,      11,\n",
       "             90,      41,      19,      31,      11,      38,      12,      16,\n",
       "             14,      28,      10,      31,      61,      33,      36,      34,\n",
       "             29,      60,      86,      43,      85,      57,      55,      66,\n",
       "            124,     148,     126,     149,     138,      85,     114,     112,\n",
       "            140,     130,      86,     167,     220,     185,     171,    1704,\n",
       "        1716661,     159,     629,     258,     154,     227,     173,     119,\n",
       "            147,     228,     213,     123,      97,      70,      56,     100,\n",
       "            173,      56,      35,      33,      33,      26,      42,      58,\n",
       "             22,      18,      28,      16,       6,      31,      17,      18,\n",
       "             69,       8,      32,      44,      19,      10,       7,      27,\n",
       "             10,       6,      52,       5,       7,       7,      10,      17,\n",
       "             46,       7,       6,       3,       3,      13,      11,       4,\n",
       "              7,       7,       4,       3,       6,       7,       3,       5,\n",
       "              4,       7,       5,       4,       6,       7,      14,      41,\n",
       "              5,      38,      20,       7,      14,       2,       5,       5,\n",
       "             12,       4,       6,       3,       6,       5,       3,       4,\n",
       "              6,       6,       7,       6,       5,      44,       8,       2,\n",
       "             35,       6,       2,       7,      10,      20,      13,       4,\n",
       "              5,      27,       2,       7,      13,      24,       6,       4,\n",
       "              8,      12,      10,      12,      13,      10,      18,      13,\n",
       "             55,      47,       9,       9,      38,      14,       9,       7,\n",
       "             11,       6,      11,       7,      10,       6,       7,      10,\n",
       "              5,       6,      47,      18,       6,       5,      29,      29,\n",
       "             22,       5,       7,      10,       5,       9,      10,      30,\n",
       "              2,       8,       3,       3,       4,      88,       9,       7,\n",
       "              3,       8,       8,      13,      10,       6,      45,      10,\n",
       "              6,       8,      30,       7,       7,       6,       8,       9,\n",
       "             12,       7,       2,       2,       9,       3,      12,       6,\n",
       "              6,       5,      10,       4,       5,       5,       8,       6,\n",
       "              6,       6,      10,       8,       9,       7,      14,       6,\n",
       "             11,      12,      25,      19,       6,       8,      59,       5,\n",
       "              7,      13,      27,      11,      11,      35,      45,      11,\n",
       "             90,      41,      19,      31,      11,      38,      12,      16,\n",
       "             14,      28,      10,      31,      61,      33,      36,      34,\n",
       "             29,      60,      86,      43,      85,      57,      55,      66,\n",
       "            124,     148,     126,     149,     138,      85,     114,     112,\n",
       "            140,     130,      86,     167,     220,     185,     171,    1704])"
      ]
     },
     "execution_count": 7,
     "metadata": {},
     "output_type": "execute_result"
    }
   ],
   "source": [
    "m = ColorHistogramEncoder()\n",
    "m.encode(img)"
   ]
  },
  {
   "cell_type": "code",
   "execution_count": 4,
   "metadata": {},
   "outputs": [
    {
     "name": "stderr",
     "output_type": "stream",
     "text": [
      "d:\\workspace\\Hackathons\\ЦП Всероссийский хакатон 2024\\.conda\\Lib\\site-packages\\tqdm\\auto.py:21: TqdmWarning: IProgress not found. Please update jupyter and ipywidgets. See https://ipywidgets.readthedocs.io/en/stable/user_install.html\n",
      "  from .autonotebook import tqdm as notebook_tqdm\n"
     ]
    }
   ],
   "source": [
    "import timm\n",
    "from encoders import TimmEncoder"
   ]
  },
  {
   "cell_type": "code",
   "execution_count": 35,
   "metadata": {},
   "outputs": [
    {
     "name": "stderr",
     "output_type": "stream",
     "text": [
      "d:\\workspace\\Hackathons\\ЦП Всероссийский хакатон 2024\\.conda\\Lib\\site-packages\\huggingface_hub\\file_download.py:147: UserWarning: `huggingface_hub` cache-system uses symlinks by default to efficiently store duplicated files but your machine does not support them in C:\\Users\\murka\\.cache\\huggingface\\hub\\models--timm--mobilenetv3_large_100.ra_in1k. Caching files will still work but in a degraded version that might require more space on your disk. This warning can be disabled by setting the `HF_HUB_DISABLE_SYMLINKS_WARNING` environment variable. For more details, see https://huggingface.co/docs/huggingface_hub/how-to-cache#limitations.\n",
      "To support symlinks on Windows, you either need to activate Developer Mode or to run Python as an administrator. In order to activate developer mode, see this article: https://docs.microsoft.com/en-us/windows/apps/get-started/enable-your-device-for-development\n",
      "  warnings.warn(message)\n"
     ]
    }
   ],
   "source": [
    "m = TimmEncoder(\"mobilenetv3_large_100\").to(torch.device(\"cuda\"))"
   ]
  },
  {
   "cell_type": "code",
   "execution_count": 21,
   "metadata": {},
   "outputs": [
    {
     "data": {
      "image/jpeg": "[encoded data removed]",
      "image/png": "[encoded data removed]",
      "text/plain": [
       "<PIL.Image.Image image mode=RGB size=1766x978>"
      ]
     },
     "execution_count": 21,
     "metadata": {},
     "output_type": "execute_result"
    }
   ],
   "source": [
    "img"
   ]
  },
  {
   "cell_type": "code",
   "execution_count": 34,
   "metadata": {},
   "outputs": [
    {
     "ename": "RuntimeError",
     "evalue": "Input type (torch.FloatTensor) and weight type (torch.cuda.FloatTensor) should be the same or input should be a MKLDNN tensor and weight is a dense tensor",
     "output_type": "error",
     "traceback": [
      "\u001b[1;31m---------------------------------------------------------------------------\u001b[0m",
      "\u001b[1;31mRuntimeError\u001b[0m                              Traceback (most recent call last)",
      "Cell \u001b[1;32mIn[34], line 1\u001b[0m\n\u001b[1;32m----> 1\u001b[0m \u001b[43mm\u001b[49m\u001b[38;5;241;43m.\u001b[39;49m\u001b[43mmodel\u001b[49m\u001b[43m(\u001b[49m\u001b[43mm\u001b[49m\u001b[38;5;241;43m.\u001b[39;49m\u001b[43mtransform\u001b[49m\u001b[43m(\u001b[49m\u001b[43mimg\u001b[49m\u001b[43m)\u001b[49m\u001b[38;5;241;43m.\u001b[39;49m\u001b[43munsqueeze\u001b[49m\u001b[43m(\u001b[49m\u001b[38;5;241;43m0\u001b[39;49m\u001b[43m)\u001b[49m\u001b[43m)\u001b[49m\n",
      "File \u001b[1;32md:\\workspace\\Hackathons\\ЦП Всероссийский хакатон 2024\\.conda\\Lib\\site-packages\\torch\\nn\\modules\\module.py:1553\u001b[0m, in \u001b[0;36mModule._wrapped_call_impl\u001b[1;34m(self, *args, **kwargs)\u001b[0m\n\u001b[0;32m   1551\u001b[0m     \u001b[38;5;28;01mreturn\u001b[39;00m \u001b[38;5;28mself\u001b[39m\u001b[38;5;241m.\u001b[39m_compiled_call_impl(\u001b[38;5;241m*\u001b[39margs, \u001b[38;5;241m*\u001b[39m\u001b[38;5;241m*\u001b[39mkwargs)  \u001b[38;5;66;03m# type: ignore[misc]\u001b[39;00m\n\u001b[0;32m   1552\u001b[0m \u001b[38;5;28;01melse\u001b[39;00m:\n\u001b[1;32m-> 1553\u001b[0m     \u001b[38;5;28;01mreturn\u001b[39;00m \u001b[38;5;28;43mself\u001b[39;49m\u001b[38;5;241;43m.\u001b[39;49m\u001b[43m_call_impl\u001b[49m\u001b[43m(\u001b[49m\u001b[38;5;241;43m*\u001b[39;49m\u001b[43margs\u001b[49m\u001b[43m,\u001b[49m\u001b[43m \u001b[49m\u001b[38;5;241;43m*\u001b[39;49m\u001b[38;5;241;43m*\u001b[39;49m\u001b[43mkwargs\u001b[49m\u001b[43m)\u001b[49m\n",
      "File \u001b[1;32md:\\workspace\\Hackathons\\ЦП Всероссийский хакатон 2024\\.conda\\Lib\\site-packages\\torch\\nn\\modules\\module.py:1562\u001b[0m, in \u001b[0;36mModule._call_impl\u001b[1;34m(self, *args, **kwargs)\u001b[0m\n\u001b[0;32m   1557\u001b[0m \u001b[38;5;66;03m# If we don't have any hooks, we want to skip the rest of the logic in\u001b[39;00m\n\u001b[0;32m   1558\u001b[0m \u001b[38;5;66;03m# this function, and just call forward.\u001b[39;00m\n\u001b[0;32m   1559\u001b[0m \u001b[38;5;28;01mif\u001b[39;00m \u001b[38;5;129;01mnot\u001b[39;00m (\u001b[38;5;28mself\u001b[39m\u001b[38;5;241m.\u001b[39m_backward_hooks \u001b[38;5;129;01mor\u001b[39;00m \u001b[38;5;28mself\u001b[39m\u001b[38;5;241m.\u001b[39m_backward_pre_hooks \u001b[38;5;129;01mor\u001b[39;00m \u001b[38;5;28mself\u001b[39m\u001b[38;5;241m.\u001b[39m_forward_hooks \u001b[38;5;129;01mor\u001b[39;00m \u001b[38;5;28mself\u001b[39m\u001b[38;5;241m.\u001b[39m_forward_pre_hooks\n\u001b[0;32m   1560\u001b[0m         \u001b[38;5;129;01mor\u001b[39;00m _global_backward_pre_hooks \u001b[38;5;129;01mor\u001b[39;00m _global_backward_hooks\n\u001b[0;32m   1561\u001b[0m         \u001b[38;5;129;01mor\u001b[39;00m _global_forward_hooks \u001b[38;5;129;01mor\u001b[39;00m _global_forward_pre_hooks):\n\u001b[1;32m-> 1562\u001b[0m     \u001b[38;5;28;01mreturn\u001b[39;00m \u001b[43mforward_call\u001b[49m\u001b[43m(\u001b[49m\u001b[38;5;241;43m*\u001b[39;49m\u001b[43margs\u001b[49m\u001b[43m,\u001b[49m\u001b[43m \u001b[49m\u001b[38;5;241;43m*\u001b[39;49m\u001b[38;5;241;43m*\u001b[39;49m\u001b[43mkwargs\u001b[49m\u001b[43m)\u001b[49m\n\u001b[0;32m   1564\u001b[0m \u001b[38;5;28;01mtry\u001b[39;00m:\n\u001b[0;32m   1565\u001b[0m     result \u001b[38;5;241m=\u001b[39m \u001b[38;5;28;01mNone\u001b[39;00m\n",
      "File \u001b[1;32md:\\workspace\\Hackathons\\ЦП Всероссийский хакатон 2024\\.conda\\Lib\\site-packages\\timm\\models\\resnet.py:635\u001b[0m, in \u001b[0;36mResNet.forward\u001b[1;34m(self, x)\u001b[0m\n\u001b[0;32m    634\u001b[0m \u001b[38;5;28;01mdef\u001b[39;00m \u001b[38;5;21mforward\u001b[39m(\u001b[38;5;28mself\u001b[39m, x: torch\u001b[38;5;241m.\u001b[39mTensor) \u001b[38;5;241m-\u001b[39m\u001b[38;5;241m>\u001b[39m torch\u001b[38;5;241m.\u001b[39mTensor:\n\u001b[1;32m--> 635\u001b[0m     x \u001b[38;5;241m=\u001b[39m \u001b[38;5;28;43mself\u001b[39;49m\u001b[38;5;241;43m.\u001b[39;49m\u001b[43mforward_features\u001b[49m\u001b[43m(\u001b[49m\u001b[43mx\u001b[49m\u001b[43m)\u001b[49m\n\u001b[0;32m    636\u001b[0m     x \u001b[38;5;241m=\u001b[39m \u001b[38;5;28mself\u001b[39m\u001b[38;5;241m.\u001b[39mforward_head(x)\n\u001b[0;32m    637\u001b[0m     \u001b[38;5;28;01mreturn\u001b[39;00m x\n",
      "File \u001b[1;32md:\\workspace\\Hackathons\\ЦП Всероссийский хакатон 2024\\.conda\\Lib\\site-packages\\timm\\models\\resnet.py:614\u001b[0m, in \u001b[0;36mResNet.forward_features\u001b[1;34m(self, x)\u001b[0m\n\u001b[0;32m    613\u001b[0m \u001b[38;5;28;01mdef\u001b[39;00m \u001b[38;5;21mforward_features\u001b[39m(\u001b[38;5;28mself\u001b[39m, x: torch\u001b[38;5;241m.\u001b[39mTensor) \u001b[38;5;241m-\u001b[39m\u001b[38;5;241m>\u001b[39m torch\u001b[38;5;241m.\u001b[39mTensor:\n\u001b[1;32m--> 614\u001b[0m     x \u001b[38;5;241m=\u001b[39m \u001b[38;5;28;43mself\u001b[39;49m\u001b[38;5;241;43m.\u001b[39;49m\u001b[43mconv1\u001b[49m\u001b[43m(\u001b[49m\u001b[43mx\u001b[49m\u001b[43m)\u001b[49m\n\u001b[0;32m    615\u001b[0m     x \u001b[38;5;241m=\u001b[39m \u001b[38;5;28mself\u001b[39m\u001b[38;5;241m.\u001b[39mbn1(x)\n\u001b[0;32m    616\u001b[0m     x \u001b[38;5;241m=\u001b[39m \u001b[38;5;28mself\u001b[39m\u001b[38;5;241m.\u001b[39mact1(x)\n",
      "File \u001b[1;32md:\\workspace\\Hackathons\\ЦП Всероссийский хакатон 2024\\.conda\\Lib\\site-packages\\torch\\nn\\modules\\module.py:1553\u001b[0m, in \u001b[0;36mModule._wrapped_call_impl\u001b[1;34m(self, *args, **kwargs)\u001b[0m\n\u001b[0;32m   1551\u001b[0m     \u001b[38;5;28;01mreturn\u001b[39;00m \u001b[38;5;28mself\u001b[39m\u001b[38;5;241m.\u001b[39m_compiled_call_impl(\u001b[38;5;241m*\u001b[39margs, \u001b[38;5;241m*\u001b[39m\u001b[38;5;241m*\u001b[39mkwargs)  \u001b[38;5;66;03m# type: ignore[misc]\u001b[39;00m\n\u001b[0;32m   1552\u001b[0m \u001b[38;5;28;01melse\u001b[39;00m:\n\u001b[1;32m-> 1553\u001b[0m     \u001b[38;5;28;01mreturn\u001b[39;00m \u001b[38;5;28;43mself\u001b[39;49m\u001b[38;5;241;43m.\u001b[39;49m\u001b[43m_call_impl\u001b[49m\u001b[43m(\u001b[49m\u001b[38;5;241;43m*\u001b[39;49m\u001b[43margs\u001b[49m\u001b[43m,\u001b[49m\u001b[43m \u001b[49m\u001b[38;5;241;43m*\u001b[39;49m\u001b[38;5;241;43m*\u001b[39;49m\u001b[43mkwargs\u001b[49m\u001b[43m)\u001b[49m\n",
      "File \u001b[1;32md:\\workspace\\Hackathons\\ЦП Всероссийский хакатон 2024\\.conda\\Lib\\site-packages\\torch\\nn\\modules\\module.py:1562\u001b[0m, in \u001b[0;36mModule._call_impl\u001b[1;34m(self, *args, **kwargs)\u001b[0m\n\u001b[0;32m   1557\u001b[0m \u001b[38;5;66;03m# If we don't have any hooks, we want to skip the rest of the logic in\u001b[39;00m\n\u001b[0;32m   1558\u001b[0m \u001b[38;5;66;03m# this function, and just call forward.\u001b[39;00m\n\u001b[0;32m   1559\u001b[0m \u001b[38;5;28;01mif\u001b[39;00m \u001b[38;5;129;01mnot\u001b[39;00m (\u001b[38;5;28mself\u001b[39m\u001b[38;5;241m.\u001b[39m_backward_hooks \u001b[38;5;129;01mor\u001b[39;00m \u001b[38;5;28mself\u001b[39m\u001b[38;5;241m.\u001b[39m_backward_pre_hooks \u001b[38;5;129;01mor\u001b[39;00m \u001b[38;5;28mself\u001b[39m\u001b[38;5;241m.\u001b[39m_forward_hooks \u001b[38;5;129;01mor\u001b[39;00m \u001b[38;5;28mself\u001b[39m\u001b[38;5;241m.\u001b[39m_forward_pre_hooks\n\u001b[0;32m   1560\u001b[0m         \u001b[38;5;129;01mor\u001b[39;00m _global_backward_pre_hooks \u001b[38;5;129;01mor\u001b[39;00m _global_backward_hooks\n\u001b[0;32m   1561\u001b[0m         \u001b[38;5;129;01mor\u001b[39;00m _global_forward_hooks \u001b[38;5;129;01mor\u001b[39;00m _global_forward_pre_hooks):\n\u001b[1;32m-> 1562\u001b[0m     \u001b[38;5;28;01mreturn\u001b[39;00m \u001b[43mforward_call\u001b[49m\u001b[43m(\u001b[49m\u001b[38;5;241;43m*\u001b[39;49m\u001b[43margs\u001b[49m\u001b[43m,\u001b[49m\u001b[43m \u001b[49m\u001b[38;5;241;43m*\u001b[39;49m\u001b[38;5;241;43m*\u001b[39;49m\u001b[43mkwargs\u001b[49m\u001b[43m)\u001b[49m\n\u001b[0;32m   1564\u001b[0m \u001b[38;5;28;01mtry\u001b[39;00m:\n\u001b[0;32m   1565\u001b[0m     result \u001b[38;5;241m=\u001b[39m \u001b[38;5;28;01mNone\u001b[39;00m\n",
      "File \u001b[1;32md:\\workspace\\Hackathons\\ЦП Всероссийский хакатон 2024\\.conda\\Lib\\site-packages\\torch\\nn\\modules\\conv.py:458\u001b[0m, in \u001b[0;36mConv2d.forward\u001b[1;34m(self, input)\u001b[0m\n\u001b[0;32m    457\u001b[0m \u001b[38;5;28;01mdef\u001b[39;00m \u001b[38;5;21mforward\u001b[39m(\u001b[38;5;28mself\u001b[39m, \u001b[38;5;28minput\u001b[39m: Tensor) \u001b[38;5;241m-\u001b[39m\u001b[38;5;241m>\u001b[39m Tensor:\n\u001b[1;32m--> 458\u001b[0m     \u001b[38;5;28;01mreturn\u001b[39;00m \u001b[38;5;28;43mself\u001b[39;49m\u001b[38;5;241;43m.\u001b[39;49m\u001b[43m_conv_forward\u001b[49m\u001b[43m(\u001b[49m\u001b[38;5;28;43minput\u001b[39;49m\u001b[43m,\u001b[49m\u001b[43m \u001b[49m\u001b[38;5;28;43mself\u001b[39;49m\u001b[38;5;241;43m.\u001b[39;49m\u001b[43mweight\u001b[49m\u001b[43m,\u001b[49m\u001b[43m \u001b[49m\u001b[38;5;28;43mself\u001b[39;49m\u001b[38;5;241;43m.\u001b[39;49m\u001b[43mbias\u001b[49m\u001b[43m)\u001b[49m\n",
      "File \u001b[1;32md:\\workspace\\Hackathons\\ЦП Всероссийский хакатон 2024\\.conda\\Lib\\site-packages\\torch\\nn\\modules\\conv.py:454\u001b[0m, in \u001b[0;36mConv2d._conv_forward\u001b[1;34m(self, input, weight, bias)\u001b[0m\n\u001b[0;32m    450\u001b[0m \u001b[38;5;28;01mif\u001b[39;00m \u001b[38;5;28mself\u001b[39m\u001b[38;5;241m.\u001b[39mpadding_mode \u001b[38;5;241m!=\u001b[39m \u001b[38;5;124m'\u001b[39m\u001b[38;5;124mzeros\u001b[39m\u001b[38;5;124m'\u001b[39m:\n\u001b[0;32m    451\u001b[0m     \u001b[38;5;28;01mreturn\u001b[39;00m F\u001b[38;5;241m.\u001b[39mconv2d(F\u001b[38;5;241m.\u001b[39mpad(\u001b[38;5;28minput\u001b[39m, \u001b[38;5;28mself\u001b[39m\u001b[38;5;241m.\u001b[39m_reversed_padding_repeated_twice, mode\u001b[38;5;241m=\u001b[39m\u001b[38;5;28mself\u001b[39m\u001b[38;5;241m.\u001b[39mpadding_mode),\n\u001b[0;32m    452\u001b[0m                     weight, bias, \u001b[38;5;28mself\u001b[39m\u001b[38;5;241m.\u001b[39mstride,\n\u001b[0;32m    453\u001b[0m                     _pair(\u001b[38;5;241m0\u001b[39m), \u001b[38;5;28mself\u001b[39m\u001b[38;5;241m.\u001b[39mdilation, \u001b[38;5;28mself\u001b[39m\u001b[38;5;241m.\u001b[39mgroups)\n\u001b[1;32m--> 454\u001b[0m \u001b[38;5;28;01mreturn\u001b[39;00m \u001b[43mF\u001b[49m\u001b[38;5;241;43m.\u001b[39;49m\u001b[43mconv2d\u001b[49m\u001b[43m(\u001b[49m\u001b[38;5;28;43minput\u001b[39;49m\u001b[43m,\u001b[49m\u001b[43m \u001b[49m\u001b[43mweight\u001b[49m\u001b[43m,\u001b[49m\u001b[43m \u001b[49m\u001b[43mbias\u001b[49m\u001b[43m,\u001b[49m\u001b[43m \u001b[49m\u001b[38;5;28;43mself\u001b[39;49m\u001b[38;5;241;43m.\u001b[39;49m\u001b[43mstride\u001b[49m\u001b[43m,\u001b[49m\n\u001b[0;32m    455\u001b[0m \u001b[43m                \u001b[49m\u001b[38;5;28;43mself\u001b[39;49m\u001b[38;5;241;43m.\u001b[39;49m\u001b[43mpadding\u001b[49m\u001b[43m,\u001b[49m\u001b[43m \u001b[49m\u001b[38;5;28;43mself\u001b[39;49m\u001b[38;5;241;43m.\u001b[39;49m\u001b[43mdilation\u001b[49m\u001b[43m,\u001b[49m\u001b[43m \u001b[49m\u001b[38;5;28;43mself\u001b[39;49m\u001b[38;5;241;43m.\u001b[39;49m\u001b[43mgroups\u001b[49m\u001b[43m)\u001b[49m\n",
      "\u001b[1;31mRuntimeError\u001b[0m: Input type (torch.FloatTensor) and weight type (torch.cuda.FloatTensor) should be the same or input should be a MKLDNN tensor and weight is a dense tensor"
     ]
    }
   ],
   "source": [
    "m.model(m.transform(img).unsqueeze(0))"
   ]
  },
  {
   "cell_type": "code",
   "execution_count": null,
   "metadata": {},
   "outputs": [],
   "source": []
  },
  {
   "cell_type": "code",
   "execution_count": 36,
   "metadata": {},
   "outputs": [
    {
     "data": {
      "text/plain": [
       "torch.Size([1, 1280])"
      ]
     },
     "execution_count": 36,
     "metadata": {},
     "output_type": "execute_result"
    }
   ],
   "source": [
    "m.encode(img).shape"
   ]
  },
  {
   "cell_type": "code",
   "execution_count": 1,
   "metadata": {},
   "outputs": [
    {
     "name": "stderr",
     "output_type": "stream",
     "text": [
      "d:\\workspace\\Hackathons\\DB_All-Russian_hackathon_2024\\.conda\\lib\\site-packages\\tqdm\\auto.py:21: TqdmWarning: IProgress not found. Please update jupyter and ipywidgets. See https://ipywidgets.readthedocs.io/en/stable/user_install.html\n",
      "  from .autonotebook import tqdm as notebook_tqdm\n",
      "d:\\workspace\\Hackathons\\DB_All-Russian_hackathon_2024\\.conda\\lib\\site-packages\\pyannote\\audio\\core\\io.py:43: UserWarning: torchaudio._backend.set_audio_backend has been deprecated. With dispatcher enabled, this function is no-op. You can remove the function call.\n",
      "  torchaudio.set_audio_backend(\"soundfile\")\n",
      "d:\\workspace\\Hackathons\\DB_All-Russian_hackathon_2024\\.conda\\lib\\site-packages\\pyannote\\audio\\pipelines\\speaker_verification.py:43: UserWarning: torchaudio._backend.get_audio_backend has been deprecated. With dispatcher enabled, this function is no-op. You can remove the function call.\n",
      "  backend = torchaudio.get_audio_backend()\n",
      "d:\\workspace\\Hackathons\\DB_All-Russian_hackathon_2024\\.conda\\lib\\inspect.py:869: UserWarning: Module 'speechbrain.pretrained' was deprecated, redirecting to 'speechbrain.inference'. Please update your script. This is a change from SpeechBrain 1.0. See: https://github.com/speechbrain/speechbrain/releases/tag/v1.0.0\n",
      "  if ismodule(module) and hasattr(module, '__file__'):\n",
      "d:\\workspace\\Hackathons\\DB_All-Russian_hackathon_2024\\.conda\\lib\\site-packages\\pyannote\\audio\\pipelines\\speaker_verification.py:45: UserWarning: Module 'speechbrain.pretrained' was deprecated, redirecting to 'speechbrain.inference'. Please update your script. This is a change from SpeechBrain 1.0. See: https://github.com/speechbrain/speechbrain/releases/tag/v1.0.0\n",
      "  from speechbrain.pretrained import (\n",
      "d:\\workspace\\Hackathons\\DB_All-Russian_hackathon_2024\\.conda\\lib\\site-packages\\pyannote\\audio\\pipelines\\speaker_verification.py:53: UserWarning: torchaudio._backend.set_audio_backend has been deprecated. With dispatcher enabled, this function is no-op. You can remove the function call.\n",
      "  torchaudio.set_audio_backend(backend)\n",
      "d:\\workspace\\Hackathons\\DB_All-Russian_hackathon_2024\\.conda\\lib\\site-packages\\pyannote\\audio\\tasks\\segmentation\\mixins.py:37: UserWarning: `torchaudio.backend.common.AudioMetaData` has been moved to `torchaudio.AudioMetaData`. Please update the import path.\n",
      "  from torchaudio.backend.common import AudioMetaData\n"
     ]
    }
   ],
   "source": [
    "from extractors import *\n",
    "from encoders import *\n",
    "from general import *"
   ]
  },
  {
   "cell_type": "code",
   "execution_count": 2,
   "metadata": {},
   "outputs": [],
   "source": [
    "video_pipeline = Pipeline.from_yaml(\"video_pipeline.yaml\")"
   ]
  },
  {
   "cell_type": "code",
   "execution_count": 4,
   "metadata": {},
   "outputs": [
    {
     "name": "stdout",
     "output_type": "stream",
     "text": [
      "CPU times: total: 250 ms\n",
      "Wall time: 2.11 s\n"
     ]
    },
    {
     "data": {
      "text/plain": [
       "torch.Size([21, 768])"
      ]
     },
     "execution_count": 4,
     "metadata": {},
     "output_type": "execute_result"
    }
   ],
   "source": [
    "%%time\n",
    "video_pipeline(\"blackborder.garba.mp4\").shape"
   ]
  },
  {
   "cell_type": "code",
   "execution_count": 2,
   "metadata": {},
   "outputs": [
    {
     "name": "stderr",
     "output_type": "stream",
     "text": [
      "d:\\workspace\\Hackathons\\ЦП Всероссийский хакатон 2024\\.conda\\Lib\\site-packages\\torch\\nn\\utils\\weight_norm.py:134: FutureWarning: `torch.nn.utils.weight_norm` is deprecated in favor of `torch.nn.utils.parametrizations.weight_norm`.\n",
      "  WeightNorm.apply(module, name, dim)\n",
      "d:\\workspace\\Hackathons\\ЦП Всероссийский хакатон 2024\\.conda\\Lib\\site-packages\\transformers\\models\\encodec\\modeling_encodec.py:120: UserWarning: To copy construct from a tensor, it is recommended to use sourceTensor.clone().detach() or sourceTensor.clone().detach().requires_grad_(True), rather than torch.tensor(sourceTensor).\n",
      "  self.register_buffer(\"padding_total\", torch.tensor(kernel_size - stride, dtype=torch.int64), persistent=False)\n"
     ]
    }
   ],
   "source": [
    "audio_pipeline = Pipeline.from_yaml(\"audio_pipeline.yaml\")"
   ]
  },
  {
   "cell_type": "code",
   "execution_count": 3,
   "metadata": {},
   "outputs": [
    {
     "name": "stdout",
     "output_type": "stream",
     "text": [
      "CPU times: total: 1.88 s\n",
      "Wall time: 5.2 s\n"
     ]
    },
    {
     "data": {
      "text/plain": [
       "torch.Size([51750, 128])"
      ]
     },
     "execution_count": 3,
     "metadata": {},
     "output_type": "execute_result"
    }
   ],
   "source": [
    "%%time\n",
    "audio_pipeline(\"summit.ogg\").shape"
   ]
  },
  {
   "cell_type": "code",
   "execution_count": 2,
   "metadata": {},
   "outputs": [
    {
     "name": "stderr",
     "output_type": "stream",
     "text": [
      "Lightning automatically upgraded your loaded checkpoint from v1.5.4 to v2.4.0. To apply the upgrade to your files permanently, run `python -m pytorch_lightning.utilities.upgrade_checkpoint C:\\Users\\murka\\.cache\\torch\\whisperx-vad-segmentation.bin`\n"
     ]
    },
    {
     "name": "stdout",
     "output_type": "stream",
     "text": [
      "No language specified, language will be first be detected for each audio file (increases inference time).\n",
      "Model was trained with pyannote.audio 0.0.1, yours is 3.1.1. Bad things might happen unless you revert pyannote.audio to 0.x.\n",
      "Model was trained with torch 1.10.0+cu102, yours is 2.4.1. Bad things might happen unless you revert torch to 1.x.\n"
     ]
    },
    {
     "name": "stderr",
     "output_type": "stream",
     "text": [
      "d:\\workspace\\Hackathons\\DB_All-Russian_hackathon_2024\\.conda\\lib\\site-packages\\huggingface_hub\\file_download.py:1142: FutureWarning: `resume_download` is deprecated and will be removed in version 1.0.0. Downloads always resume when possible. If you want to force a new download, use `force_download=True`.\n",
      "  warnings.warn(\n"
     ]
    }
   ],
   "source": [
    "text_pipeline = Pipeline.from_yaml(\"text_pipeline.yaml\")"
   ]
  },
  {
   "cell_type": "code",
   "execution_count": 5,
   "metadata": {},
   "outputs": [
    {
     "name": "stdout",
     "output_type": "stream",
     "text": [
      "Detected language: ru (0.99) in first 30s of audio...\n",
      "CPU times: total: 484 ms\n",
      "Wall time: 4.43 s\n"
     ]
    },
    {
     "data": {
      "text/plain": [
       "tensor([[ 4.6748e-02,  4.8225e-02, -1.9725e-02,  2.4593e-02,  2.1617e-02,\n",
       "         -3.3758e-04, -1.8160e-02, -6.8129e-03,  2.8237e-02,  2.2765e-03,\n",
       "         -4.9124e-02, -1.1008e-02,  1.8058e-01,  3.6302e-02, -3.7373e-02,\n",
       "         -5.7825e-02,  4.5657e-02, -4.4085e-03,  1.8495e-02, -4.5195e-02,\n",
       "          6.0609e-02, -2.9299e-02,  4.7384e-02, -1.4773e-02,  2.8036e-03,\n",
       "         -1.0521e-02, -4.5397e-03,  1.2112e-02, -3.3764e-02,  2.7008e-02,\n",
       "          1.4335e-02, -7.4867e-02,  1.5845e-02,  2.9658e-02,  6.9715e-03,\n",
       "          1.9667e-02, -8.8479e-03, -3.1842e-02,  2.1432e-04,  7.5846e-03,\n",
       "          1.7703e-02, -1.6503e-03,  3.9748e-02, -3.0360e-02,  2.1308e-02,\n",
       "         -1.2232e-02,  5.1827e-02,  1.7070e-02, -1.0849e-02, -6.8301e-03,\n",
       "          1.3045e-02,  6.1166e-03,  2.8470e-02,  2.4174e-02, -3.7359e-02,\n",
       "         -5.0951e-02,  2.6960e-02,  1.9936e-02, -4.9053e-02,  2.7208e-02,\n",
       "          1.3426e-02,  4.4161e-02, -2.6795e-02,  2.6764e-02,  4.2101e-02,\n",
       "         -1.1448e-02,  6.3896e-03,  8.3365e-03, -2.7348e-02, -5.1273e-02,\n",
       "          4.2467e-02, -7.6412e-03,  3.7120e-02,  9.0341e-03, -9.0810e-02,\n",
       "         -1.5704e-02, -3.5599e-02, -3.9031e-03, -9.1083e-03, -1.2863e-02,\n",
       "          4.5460e-02,  3.4765e-02,  2.8821e-02,  3.3319e-02,  2.2285e-02,\n",
       "         -1.1200e-02, -1.5993e-02,  2.6885e-02,  6.5505e-02,  2.1555e-03,\n",
       "          4.2554e-02,  2.8648e-03, -1.3333e-02,  2.8509e-02,  1.8119e-02,\n",
       "          3.9716e-02,  2.9284e-02, -1.2908e-02,  5.2488e-02, -3.0135e-02,\n",
       "         -2.0339e-02, -4.6103e-02, -1.8035e-02,  3.7345e-03, -7.2151e-02,\n",
       "          1.4794e-02,  1.1189e-02, -3.4675e-02,  2.1107e-02, -4.4682e-02,\n",
       "         -1.6050e-02,  2.0561e-02,  3.5248e-02, -6.1458e-02,  2.6928e-02,\n",
       "         -4.0525e-02,  3.7962e-02, -2.6759e-02, -7.0080e-03, -1.9137e-02,\n",
       "         -6.0709e-03,  8.1639e-03, -2.7943e-02, -4.2758e-02,  3.6630e-02,\n",
       "         -3.5182e-02, -8.2648e-03,  1.6598e-03,  2.2791e-02, -6.2098e-02,\n",
       "         -1.0831e-02, -5.9673e-02,  3.1542e-03,  2.6021e-02, -3.3295e-02,\n",
       "          6.0727e-02,  3.3206e-02,  2.0259e-02, -1.0592e-02,  1.1618e-02,\n",
       "          2.8904e-02, -6.0693e-02,  1.1608e-02,  1.6852e-02,  3.8577e-02,\n",
       "         -4.9064e-02,  5.4808e-02,  5.2289e-03, -1.1903e-02,  3.4212e-02,\n",
       "          2.0101e-02, -1.7456e-02, -1.7998e-02, -2.0968e-02,  2.3072e-02,\n",
       "          1.6240e-02, -5.0578e-02, -5.3898e-02, -2.8573e-02,  4.0364e-02,\n",
       "          2.0539e-02,  1.6103e-02,  3.9342e-02, -2.2744e-02,  1.7743e-02,\n",
       "         -5.2734e-03, -2.0021e-02,  3.0572e-02, -1.2869e-02, -4.8423e-02,\n",
       "         -4.4447e-03, -7.3707e-03, -6.3775e-02,  1.9630e-02,  7.1630e-03,\n",
       "         -2.4841e-02, -8.3786e-03, -5.2040e-02, -1.1789e-02, -4.2581e-02,\n",
       "         -5.0555e-02, -3.5548e-02, -3.9376e-02,  3.6447e-02, -7.1281e-03,\n",
       "         -2.4134e-02, -3.5861e-02, -2.0859e-02,  2.7839e-02,  7.4725e-04,\n",
       "         -1.5078e-02,  6.1751e-02,  3.3093e-02, -1.9317e-03,  1.8016e-02,\n",
       "          2.3376e-02,  2.7990e-02,  8.6311e-02, -1.5303e-02, -4.1188e-02,\n",
       "          3.9686e-02, -2.7154e-02,  1.9506e-02,  1.4194e-02,  8.2115e-03,\n",
       "         -6.0188e-02,  1.3637e-02,  4.4880e-02,  4.8893e-02,  3.1639e-02,\n",
       "          9.1665e-03,  3.1303e-02, -1.2483e-02,  4.6310e-03, -2.9893e-02,\n",
       "         -7.1285e-02,  1.9208e-02,  5.2683e-02, -2.5537e-02,  2.8899e-02,\n",
       "          4.0386e-02, -5.5518e-02,  3.8284e-02,  1.2270e-02,  6.4913e-04,\n",
       "          6.1354e-03,  3.3477e-02, -1.7375e-02,  4.3212e-02,  1.0757e-02,\n",
       "          2.7350e-02,  2.4559e-02, -5.0368e-02,  6.8376e-02,  1.8798e-02,\n",
       "         -5.3460e-03,  4.7353e-02, -1.2012e-02, -3.3759e-02, -1.3208e-01,\n",
       "         -1.6867e-02,  3.4697e-02,  1.0795e-02, -9.8735e-03,  3.0382e-02,\n",
       "         -2.9651e-02, -2.2355e-02,  1.7783e-02, -6.9585e-02,  1.1718e-02,\n",
       "          1.7306e-02, -3.7964e-02,  3.0650e-02, -3.5680e-03,  3.7004e-03,\n",
       "          2.5748e-03, -5.4864e-02,  1.1004e-02, -2.9080e-02,  5.5361e-03,\n",
       "         -2.4030e-02, -5.4204e-02, -2.1031e-02, -5.7019e-02, -2.0540e-03,\n",
       "          4.4971e-03,  8.4006e-02, -5.4725e-02, -7.3113e-04, -6.1355e-03,\n",
       "         -2.7743e-02, -1.3598e-02, -5.1361e-02,  3.2973e-02,  5.5197e-03,\n",
       "         -2.9400e-02, -5.1883e-02,  3.3035e-02, -3.2915e-02, -1.5761e-02,\n",
       "          1.5750e-02,  6.4125e-02, -2.1257e-02, -1.8614e-02, -5.2239e-02,\n",
       "          2.5363e-02, -8.0851e-02,  1.2449e-02, -7.1750e-02,  1.2937e-02,\n",
       "          4.2345e-02,  6.8299e-02, -1.3560e-02, -8.5426e-03,  8.8008e-02,\n",
       "          5.2511e-02,  3.4366e-02,  1.6164e-02,  3.2331e-02,  3.7512e-03,\n",
       "         -3.9794e-02, -5.3904e-02,  2.8938e-02, -7.6730e-02, -1.2829e-03,\n",
       "         -2.7481e-03,  9.5307e-02,  2.5183e-02, -5.0849e-02,  4.3256e-02,\n",
       "         -4.2166e-02, -1.8726e-02, -3.4301e-02,  6.5297e-03,  1.7121e-02,\n",
       "         -4.3186e-02,  1.3614e-02,  7.3919e-02,  4.0376e-03,  6.2806e-02,\n",
       "         -2.5182e-02,  2.5906e-02, -5.0716e-02, -3.3290e-02,  2.9727e-02,\n",
       "         -3.5513e-02,  6.5873e-03,  3.0385e-03,  3.1802e-02, -8.4443e-03,\n",
       "         -6.0079e-02,  1.9828e-02,  5.9042e-03,  3.8397e-02, -9.4177e-02,\n",
       "          4.1842e-02, -9.7136e-03, -1.0211e-02,  1.7128e-02,  4.0591e-02,\n",
       "         -6.8343e-02,  4.5464e-02,  1.9362e-02, -2.3852e-02, -1.1150e-02,\n",
       "         -4.7657e-02, -2.5242e-02,  1.3278e-02, -5.2211e-02,  6.4825e-02,\n",
       "          2.1590e-02, -8.8518e-02,  3.7127e-02, -1.2141e-02, -6.2106e-02,\n",
       "          2.2464e-02,  3.2568e-02, -1.9571e-02, -3.2375e-03,  6.9701e-03,\n",
       "         -1.2001e-02,  4.2152e-02,  9.6474e-03,  1.0386e-02,  9.0031e-03,\n",
       "          4.7689e-02, -1.1216e-02,  1.7702e-02,  2.1813e-02, -8.2569e-03,\n",
       "          1.1143e-01,  2.6045e-02,  2.1383e-02, -1.2498e-02,  1.8318e-02,\n",
       "         -3.5899e-02,  3.1238e-02, -5.1239e-02,  9.6832e-03,  1.6742e-02,\n",
       "          3.7973e-02,  3.3243e-02,  1.2329e-02,  3.1508e-02, -6.6624e-03,\n",
       "          1.4915e-02,  1.9506e-02, -6.2516e-02,  5.7311e-03, -3.3707e-02,\n",
       "         -9.5732e-03, -4.2117e-02, -9.2728e-03,  1.0551e-02,  2.4624e-02,\n",
       "         -1.7725e-02,  1.1939e-02, -3.1621e-02,  6.5494e-03, -5.9107e-02,\n",
       "          3.3887e-02,  3.2221e-02, -1.7428e-02,  3.0104e-02,  2.1070e-02,\n",
       "          5.9554e-03, -1.6911e-02,  3.5823e-02, -1.0435e-02, -3.1277e-02,\n",
       "          2.6892e-02, -1.8515e-02,  5.8362e-02,  8.1670e-03,  3.0972e-02,\n",
       "         -5.1947e-03, -2.9058e-02,  4.7924e-02,  3.3258e-02,  1.8748e-02,\n",
       "         -2.4434e-02,  9.4105e-03,  2.0464e-02, -3.0973e-03,  2.6960e-02,\n",
       "         -8.7325e-02, -6.9838e-03,  9.2324e-03,  3.3199e-02, -1.9821e-02,\n",
       "         -3.6640e-02, -6.2739e-03,  2.7214e-02,  5.1881e-03,  2.8443e-02,\n",
       "         -5.1709e-02,  3.8222e-02,  1.5960e-02, -2.6425e-02,  5.7400e-02,\n",
       "         -3.8294e-03, -1.1162e-02,  1.8921e-02, -3.6528e-02, -2.4087e-02,\n",
       "         -2.9350e-02, -4.0762e-02,  2.1141e-03,  7.1719e-03,  4.8611e-03,\n",
       "          2.2027e-02,  3.1352e-02,  1.8169e-02, -4.1883e-04,  2.9858e-02,\n",
       "         -4.5316e-02,  6.4366e-02,  2.1152e-02,  7.3758e-03, -8.9617e-02,\n",
       "          3.5979e-02,  2.5294e-02,  1.9908e-02, -5.1144e-03,  7.5348e-04,\n",
       "         -6.3592e-02, -4.7955e-03, -2.2462e-02,  3.7137e-02, -3.7559e-02,\n",
       "         -9.6521e-03,  4.7895e-03,  1.0269e-02,  2.1282e-02,  4.7798e-03,\n",
       "          6.0138e-02, -1.1872e-02,  3.6165e-02,  1.4810e-02, -9.6315e-03,\n",
       "          3.3204e-03, -3.4254e-02, -4.8536e-02,  1.1160e-02,  4.3900e-02,\n",
       "          2.9818e-02, -1.0132e-01,  7.6158e-02,  3.5498e-02, -4.4041e-02,\n",
       "          7.0113e-03,  4.9929e-02, -2.2736e-02, -2.1707e-02, -3.4177e-02,\n",
       "          1.2589e-02, -3.5640e-02, -5.2966e-02,  2.5193e-02, -1.2531e-02,\n",
       "         -9.2976e-03, -2.9822e-03, -5.2632e-02,  2.0238e-02, -2.2593e-02,\n",
       "         -3.7049e-03,  1.5487e-02, -2.1694e-02,  4.3648e-02, -2.2911e-02,\n",
       "          1.5674e-01, -3.9079e-02, -3.9762e-02, -1.5274e-02,  1.4422e-02,\n",
       "         -2.2446e-02, -4.5563e-02,  2.7059e-02,  2.1149e-02, -4.5425e-02,\n",
       "          5.8510e-03,  1.8424e-02, -4.5895e-02, -3.1864e-02,  8.9845e-03,\n",
       "         -7.2973e-02, -1.0938e-02, -2.8384e-02,  2.6208e-02, -4.7986e-03,\n",
       "          4.1684e-02, -2.0099e-02,  4.7852e-02, -4.4072e-02, -7.2215e-02,\n",
       "          6.2247e-02, -3.7350e-02, -3.0660e-02,  6.2505e-02, -8.3749e-03,\n",
       "         -2.0654e-02, -2.9561e-02, -5.0483e-03, -2.4488e-02,  4.1568e-02,\n",
       "         -2.3541e-02, -2.3840e-04, -5.0326e-02, -1.2366e-02, -1.7563e-02,\n",
       "          3.8349e-02, -1.7539e-02, -3.6522e-02,  4.3299e-02, -4.8033e-02,\n",
       "          2.6676e-02,  1.0836e-02,  3.2351e-03,  4.3717e-02, -1.5115e-02,\n",
       "          1.0262e-02, -1.7412e-02,  2.7629e-02,  1.6619e-02,  2.4987e-02,\n",
       "          1.1723e-02,  6.7044e-03,  3.5822e-03, -3.3402e-02,  6.4335e-02,\n",
       "         -6.3684e-02,  5.6283e-02,  2.2713e-02, -2.9244e-02,  3.2679e-02,\n",
       "          2.1434e-02, -3.2252e-02, -4.5700e-02,  3.0815e-02, -9.8159e-03,\n",
       "         -6.3081e-02, -2.2102e-02, -4.3289e-02,  1.6471e-02,  3.0166e-02,\n",
       "          2.1184e-02, -3.8103e-03,  2.8426e-03, -2.1140e-01,  1.0510e-02,\n",
       "         -6.6507e-03,  3.1082e-03,  3.3328e-03,  1.8008e-02,  2.8331e-02,\n",
       "         -1.8141e-02,  1.8280e-02,  1.6536e-02,  3.9710e-02, -5.8795e-02,\n",
       "          2.8200e-02, -3.1611e-02, -4.5509e-02,  4.8310e-02, -1.6674e-04,\n",
       "         -3.5717e-02,  1.3065e-02,  9.9720e-03,  5.2871e-03,  2.5760e-02,\n",
       "         -7.5935e-02,  2.5341e-02, -4.3520e-02, -1.8046e-02, -2.1545e-02,\n",
       "         -1.5050e-03,  3.4846e-02,  3.0810e-02,  5.4742e-03,  2.6659e-03,\n",
       "         -5.5768e-04,  2.4533e-02, -3.9694e-02, -1.2431e-02, -2.5268e-02,\n",
       "          1.4661e-02, -3.8397e-02,  3.4884e-02,  2.0986e-02, -4.5810e-02,\n",
       "         -5.7146e-02,  2.0788e-02, -1.5054e-02,  3.1484e-02,  5.0626e-02,\n",
       "          1.4077e-03,  2.1531e-03, -2.2213e-02,  6.7500e-03,  1.1916e-02,\n",
       "         -7.7223e-02,  5.3250e-03, -1.8128e-02,  5.6304e-02,  3.2343e-02,\n",
       "          3.9447e-02,  1.4213e-02,  6.6324e-03,  2.0156e-02,  5.0909e-02,\n",
       "         -3.6993e-02,  5.6255e-02, -2.8841e-02, -7.4078e-03, -1.0906e-02,\n",
       "         -5.5530e-02, -3.2515e-04, -3.8985e-04,  3.5817e-02, -2.4507e-02,\n",
       "         -3.8728e-02,  1.6668e-02,  4.4995e-02,  3.3413e-02,  1.0323e-02,\n",
       "         -1.4885e-02, -6.4133e-02,  3.0278e-02, -3.3353e-02, -1.4659e-03,\n",
       "          3.1933e-02,  1.6792e-02, -3.7338e-02, -3.3740e-02, -2.0552e-02,\n",
       "         -2.5719e-03,  2.7409e-02,  4.0875e-02,  1.1560e-02, -4.7534e-03,\n",
       "         -7.1279e-03,  3.2833e-02,  1.8497e-02, -1.0620e-02, -3.2713e-02,\n",
       "          1.6173e-02,  1.4283e-02, -2.2079e-02, -2.8067e-02, -1.6857e-03,\n",
       "         -6.1185e-02,  4.4367e-02,  3.1648e-02, -3.3382e-02, -8.8850e-02,\n",
       "          4.5625e-02, -3.5337e-02, -2.2278e-02,  1.7517e-02,  2.8277e-02,\n",
       "          6.0531e-02, -4.4777e-03,  5.1293e-04, -1.7976e-02,  2.7656e-02,\n",
       "         -4.6879e-02, -6.4182e-02, -2.6061e-02, -5.5996e-02, -1.8574e-02,\n",
       "          3.2998e-02, -5.0394e-03,  5.5414e-02,  1.7118e-02, -1.4556e-02,\n",
       "          3.0769e-02, -3.9003e-03,  1.4528e-02, -4.8976e-02, -6.5927e-02,\n",
       "         -1.9839e-02, -3.8680e-02,  1.3944e-02,  2.6352e-02,  5.7810e-02,\n",
       "         -7.4569e-03,  2.9629e-02,  1.8180e-02,  7.2908e-02, -5.6565e-02,\n",
       "         -4.7662e-02, -2.8958e-02, -2.6343e-02, -9.4418e-03,  2.0962e-02,\n",
       "         -3.8675e-02,  4.3274e-02, -4.2756e-02, -2.3366e-02, -5.0235e-02,\n",
       "          2.7457e-02, -1.0579e-02, -5.9735e-03,  4.0004e-02,  7.0078e-03,\n",
       "         -5.2355e-03, -9.9690e-03,  4.3874e-02, -3.3938e-02, -2.3726e-02,\n",
       "          2.3950e-02,  3.5417e-02,  2.2041e-02,  1.1743e-03, -2.0246e-02,\n",
       "         -4.1788e-03,  8.7236e-03,  5.2890e-02, -3.4395e-02,  1.3090e-02,\n",
       "          1.3881e-02,  5.4660e-02,  2.9435e-02,  9.7795e-03,  2.6374e-02,\n",
       "         -2.7080e-02, -6.4671e-02,  1.2916e-02]])"
      ]
     },
     "execution_count": 5,
     "metadata": {},
     "output_type": "execute_result"
    }
   ],
   "source": [
    "%%time\n",
    "text_pipeline(\"0c630520-6c3c-4948-a196-22a458a9cbdf.mp4\")"
   ]
  },
  {
   "cell_type": "code",
   "execution_count": null,
   "metadata": {},
   "outputs": [],
   "source": []
  }
 ],
 "metadata": {
  "kernelspec": {
   "display_name": "Python 3",
   "language": "python",
   "name": "python3"
  },
  "language_info": {
   "codemirror_mode": {
    "name": "ipython",
    "version": 3
   },
   "file_extension": ".py",
   "mimetype": "text/x-python",
   "name": "python",
   "nbconvert_exporter": "python",
   "pygments_lexer": "ipython3",
   "version": "3.10.14"
  }
 },
 "nbformat": 4,
 "nbformat_minor": 2
}
